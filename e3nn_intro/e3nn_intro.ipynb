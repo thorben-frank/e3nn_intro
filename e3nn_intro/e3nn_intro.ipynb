{
 "cells": [
  {
   "cell_type": "code",
   "execution_count": 1,
   "id": "de02868f",
   "metadata": {},
   "outputs": [],
   "source": [
    "from mlff.src.basis_function.spherical import init_sph_fn\n",
    "from mlff.src.random import set_seeds\n",
    "\n",
    "import haiku as hk\n",
    "import jax\n",
    "import numpy as np\n",
    "import jax.numpy as jnp\n",
    "import e3nn_jax as e3nn\n",
    "jnp.set_printoptions(precision=3, suppress=True)\n"
   ]
  },
  {
   "cell_type": "markdown",
   "id": "eed51d7c",
   "metadata": {},
   "source": [
    "# Irreducible Representations"
   ]
  },
  {
   "cell_type": "markdown",
   "id": "148481b6",
   "metadata": {},
   "source": [
    "In `e3nn` irreducible representations of the SO(3) group are represented using the `e3nn.Irrep` class. This class does not contain any data, it is a structure that describe the representation. It is typically used as argument of other classes of the library to define the input and output representations of functions. It can be used to define irreduciple representations of arbitrary degree $l$ and parity $p \\in (+1,-1)$, where $+1$ correpsonds to even parity and $-1$ to odd parity. Parity determines the behavior under sign flip of the input e.g. flipping atomic coordinates as $(r_1, \\dots, r_n) \\rightarrow (-r_1, \\dots, -r_n)$. For example the spherical harmonics have parity $p = (-1)^l$."
   ]
  },
  {
   "cell_type": "markdown",
   "id": "a489946b",
   "metadata": {},
   "source": [
    "A scalar (degree $l=0$) Irreps with odd parity $p=-1$ can be created in two different ways using the `e3nn.Irrep` class. One can either pass $l$ and $p$ as integers or pass what I call an irreps string in the following."
   ]
  },
  {
   "cell_type": "code",
   "execution_count": 2,
   "id": "104f5004",
   "metadata": {},
   "outputs": [
    {
     "data": {
      "text/plain": [
       "0o"
      ]
     },
     "execution_count": 2,
     "metadata": {},
     "output_type": "execute_result"
    }
   ],
   "source": [
    "e3nn.Irrep(l=0, p=-1)  # degree = 0 and odd parity"
   ]
  },
  {
   "cell_type": "code",
   "execution_count": 3,
   "id": "63a5adef",
   "metadata": {},
   "outputs": [
    {
     "data": {
      "text/plain": [
       "1e"
      ]
     },
     "execution_count": 3,
     "metadata": {},
     "output_type": "execute_result"
    }
   ],
   "source": [
    "e3nn.Irrep(l=1, p=+1)  # degree = 1 and even parity"
   ]
  },
  {
   "cell_type": "markdown",
   "id": "91f4e6df",
   "metadata": {},
   "source": [
    "Within the irrep string, the number specifies the degree $l$ and the following character the parity. `e` for even parity ($p=+1$), `o` for odd parity ($p=-1$) and `y` for the parity of the spherical harmonics ($p=(-1)^l$)."
   ]
  },
  {
   "cell_type": "code",
   "execution_count": 4,
   "id": "a45616be",
   "metadata": {},
   "outputs": [
    {
     "data": {
      "text/plain": [
       "3e"
      ]
     },
     "execution_count": 4,
     "metadata": {},
     "output_type": "execute_result"
    }
   ],
   "source": [
    "e3nn.Irrep(\"3e\")  # degree and even parity"
   ]
  },
  {
   "cell_type": "code",
   "execution_count": 5,
   "id": "ce546b70",
   "metadata": {},
   "outputs": [
    {
     "data": {
      "text/plain": [
       "2e"
      ]
     },
     "execution_count": 5,
     "metadata": {},
     "output_type": "execute_result"
    }
   ],
   "source": [
    "e3nn.Irrep(\"2y\")  # degree and parity of spherical harmonics (-1)^2 = +1 = even"
   ]
  },
  {
   "cell_type": "markdown",
   "id": "9891df64",
   "metadata": {},
   "source": [
    "The `Irrep` class also offers additional functionality such as constructing it from a given rotation, see [here](https://e3nn-jax.readthedocs.io/en/latest/api/irreps.html#e3nn_jax.Irrep)."
   ]
  },
  {
   "cell_type": "markdown",
   "id": "6f484b8b",
   "metadata": {},
   "source": [
    "# Direct Sum of Irreducible Representations"
   ]
  },
  {
   "cell_type": "markdown",
   "id": "13d391ac",
   "metadata": {},
   "source": [
    "The `Irreps` class allows to construct direct sums of irreducible representations. In the same fashion as before they can be either initialized using integers or a string. In addition to degree $l$ and parity $p$ there is an additional parameter which we call $F_{lp}$ which specifies the number of summands in the direct sum for a given combination of degree and parity."
   ]
  },
  {
   "cell_type": "markdown",
   "id": "26f4e4a1",
   "metadata": {},
   "source": [
    "Initialize an `Irreps` from integers. The input is a `list` of `tuples`, where each of the `tuples` has the form ($F$, ($l$, $p$))."
   ]
  },
  {
   "cell_type": "code",
   "execution_count": 6,
   "id": "84904b19",
   "metadata": {},
   "outputs": [
    {
     "data": {
      "text/plain": [
       "100x0e+50x1o"
      ]
     },
     "execution_count": 6,
     "metadata": {},
     "output_type": "execute_result"
    }
   ],
   "source": [
    "e3nn.Irreps([(100, (0, 1)), (50, (1, -1))])"
   ]
  },
  {
   "cell_type": "markdown",
   "id": "bcf2fb2b",
   "metadata": {},
   "source": [
    "An identical representation can be created using the irreps string `\"100xe0 + 50x1o\"`."
   ]
  },
  {
   "cell_type": "code",
   "execution_count": 7,
   "id": "b715e7ae",
   "metadata": {},
   "outputs": [
    {
     "data": {
      "text/plain": [
       "100x0e+50x1o"
      ]
     },
     "execution_count": 7,
     "metadata": {},
     "output_type": "execute_result"
    }
   ],
   "source": [
    "x = e3nn.Irreps(\"100x0e+50x1o\")\n",
    "x"
   ]
  },
  {
   "cell_type": "markdown",
   "id": "aa7ce426",
   "metadata": {},
   "source": [
    "One can obtain different properties from the class as e.g. the maximal degree, or the number of irreps."
   ]
  },
  {
   "cell_type": "code",
   "execution_count": 8,
   "id": "55a15a0c",
   "metadata": {},
   "outputs": [
    {
     "data": {
      "text/plain": [
       "1"
      ]
     },
     "execution_count": 8,
     "metadata": {},
     "output_type": "execute_result"
    }
   ],
   "source": [
    "x.lmax"
   ]
  },
  {
   "cell_type": "code",
   "execution_count": 9,
   "id": "f55e9e99",
   "metadata": {},
   "outputs": [
    {
     "data": {
      "text/plain": [
       "150"
      ]
     },
     "execution_count": 9,
     "metadata": {},
     "output_type": "execute_result"
    }
   ],
   "source": [
    "x.num_irreps"
   ]
  },
  {
   "cell_type": "markdown",
   "id": "641e7333",
   "metadata": {},
   "source": [
    "# Irreps Array"
   ]
  },
  {
   "cell_type": "markdown",
   "id": "6a42af5a",
   "metadata": {},
   "source": [
    "`3enn` ususally takes `IrrepsArray` as input. Thus, one has to transform the corresponding inputs, here a scalar \n",
    "`s` ($l=0$) and a vector `v` ($l=1$) to `IrrepsArrays` first. `IrrepsArray` have information about the irreps in form of the irreps string as well as the values. They can be obtained independetly by accessing the class properties `.irreps` and `.array`, respectively."
   ]
  },
  {
   "cell_type": "code",
   "execution_count": 10,
   "id": "d0e02f91",
   "metadata": {},
   "outputs": [
    {
     "name": "stdout",
     "output_type": "stream",
     "text": [
      "Full v:  1x1o [0.715 0.603 0.545]\n",
      "Irreps of v:  1x1o\n",
      "Values of v:  [0.715 0.603 0.545]\n"
     ]
    }
   ],
   "source": [
    "set_seeds(0)\n",
    "s = np.random.rand(1)\n",
    "v = np.random.rand(3)\n",
    "\n",
    "s = e3nn.IrrepsArray(\"0y\", s)\n",
    "v = e3nn.IrrepsArray(\"1y\", v)\n",
    "\n",
    "print('Full v: ', v)\n",
    "print('Irreps of v: ', v.irreps)\n",
    "print('Values of v: ', v.array)"
   ]
  },
  {
   "cell_type": "markdown",
   "id": "8197bb7b",
   "metadata": {},
   "source": [
    "# Spherical Harmonics"
   ]
  },
  {
   "cell_type": "markdown",
   "id": "ace8dc53",
   "metadata": {},
   "source": [
    "Calling the spherical harmonics function with integral normalization, reproduces the spherical harmonics\n",
    "from the table in wikipedia. Note that they assume the input to be of order `[y,z,x]` (instead of `[x,y,z]`\n",
    "see [here](https://github.com/e3nn/e3nn-jax/blob/0082115c15a386b9696a885d9899a6ec6d9a347d/e3nn_jax/_src/spherical_harmonics.py#L74). The returned quantity is an IrrepsArray itself, which returns the irreps string and then the `DeviceArray`."
   ]
  },
  {
   "cell_type": "code",
   "execution_count": 11,
   "id": "49e0d100",
   "metadata": {},
   "outputs": [
    {
     "name": "stdout",
     "output_type": "stream",
     "text": [
      "1x0e+1x1o+1x2e [ 0.282  0.323  0.272  0.246  0.363  0.402 -0.022  0.306 -0.1  ]\n",
      "----------------------------------------------------------------------------------------------------\n",
      "Irreps: \n",
      "1x0e+1x1o+1x2e\n",
      "\n",
      "Values: \n",
      "[ 0.282  0.323  0.272  0.246  0.363  0.402 -0.022  0.306 -0.1  ]\n"
     ]
    }
   ],
   "source": [
    "Y0_e3nn = e3nn.spherical_harmonics([0, 1, 2], v, normalize=True, normalization='integral')\n",
    "print(Y0_e3nn)\n",
    "print('-'*100)\n",
    "print('Irreps: \\n{}\\n'.format(Y0_e3nn.irreps))\n",
    "print('Values: \\n{}'.format(Y0_e3nn.array))"
   ]
  },
  {
   "cell_type": "markdown",
   "id": "579747ac",
   "metadata": {},
   "source": [
    "Little hidden, there is also a function that takes np/jnp arrays of coordinates and returns the \n",
    "spherical harmonics."
   ]
  },
  {
   "cell_type": "code",
   "execution_count": 12,
   "id": "b94be520",
   "metadata": {},
   "outputs": [
    {
     "data": {
      "text/plain": [
       "DeviceArray([[ 0.282,  0.233,  0.355,  0.241,  0.257,  0.379,  0.185,\n",
       "               0.392,  0.008],\n",
       "             [ 0.282,  0.319,  0.344,  0.137,  0.2  ,  0.502,  0.154,\n",
       "               0.216, -0.189],\n",
       "             [ 0.282,  0.349,  0.233,  0.25 ,  0.4  ,  0.372, -0.1  ,\n",
       "               0.267, -0.135],\n",
       "             [ 0.282,  0.485,  0.037,  0.046,  0.101,  0.083, -0.31 ,\n",
       "               0.008, -0.534],\n",
       "             [ 0.282,  0.009,  0.357,  0.334,  0.013,  0.014,  0.189,\n",
       "               0.545,  0.254],\n",
       "             [ 0.282,  0.277,  0.312,  0.255,  0.323,  0.395,  0.07 ,\n",
       "               0.363, -0.027],\n",
       "             [ 0.282,  0.247,  0.417,  0.063,  0.071,  0.471,  0.374,\n",
       "               0.121, -0.13 ],\n",
       "             [ 0.282,  0.272,  0.061,  0.401,  0.499,  0.076, -0.301,\n",
       "               0.112,  0.199],\n",
       "             [ 0.282,  0.356,  0.283,  0.18 ,  0.293,  0.46 ,  0.001,\n",
       "               0.233, -0.215],\n",
       "             [ 0.282,  0.356,  0.21 ,  0.261,  0.425,  0.341, -0.141,\n",
       "               0.251, -0.134]], dtype=float32)"
      ]
     },
     "execution_count": 12,
     "metadata": {},
     "output_type": "execute_result"
    }
   ],
   "source": [
    "R = np.random.rand(10,3)  # coordinates\n",
    "e3nn.sh(irreps_out=[0,1,2], input=R, normalize=True, normalization='integral')"
   ]
  },
  {
   "cell_type": "markdown",
   "id": "252b6e36",
   "metadata": {},
   "source": [
    "Alternatively one can create the `IrrepsArray` from a `list` of irreps and `array` values.\n",
    "The `1x` in front of the irreps string indicates the feature dimension `F`. One then observes the tensor product\n",
    "structure (flattened) for equivariant features used in most current models."
   ]
  },
  {
   "cell_type": "code",
   "execution_count": 13,
   "id": "c00d7471",
   "metadata": {},
   "outputs": [
    {
     "name": "stdout",
     "output_type": "stream",
     "text": [
      "With feature dimension F = 1\n",
      "Irreps:  1x0e+1x1o+1x2e\n",
      "Values:  [1. 2. 2. 2. 3. 3. 3. 3. 3.]\n",
      "Array shape: (9,)\n",
      "\n",
      "With feature dimension F = 8\n",
      "Irreps:  8x0e+8x1o+8x2e\n",
      "Values:  [1. 1. 1. 1. 1. 1. 1. 1. 2. 2. 2. 2. 2. 2. 2. 2. 2. 2. 2. 2. 2. 2. 2. 2.\n",
      " 2. 2. 2. 2. 2. 2. 2. 2. 3. 3. 3. 3. 3. 3. 3. 3. 3. 3. 3. 3. 3. 3. 3. 3.\n",
      " 3. 3. 3. 3. 3. 3. 3. 3. 3. 3. 3. 3. 3. 3. 3. 3. 3. 3. 3. 3. 3. 3. 3. 3.]\n",
      "Array shape: (72,)\n"
     ]
    }
   ],
   "source": [
    "F = 1\n",
    "y_F1 = e3nn.IrrepsArray.from_list(\"1x0y + 1x1y + 1x2y\", [np.ones((F,1)), 2*np.ones((F,3)), 3*np.ones((F,5))], ())\n",
    "print('With feature dimension F = {}'.format(F))\n",
    "print('Irreps: ', y_F1.irreps)\n",
    "print('Values: ', y_F1.array)\n",
    "print('Array shape:', y_F1.shape)\n",
    "F = 8\n",
    "y_F8 = e3nn.IrrepsArray.from_list(\"{}x0y +{}x1y +{}x2y\".format(F,F,F), [np.ones((F,1)), 2*np.ones((F,3)), 3*np.ones((F,5))], ())\n",
    "print('\\nWith feature dimension F = {}'.format(F))\n",
    "print('Irreps: ', y_F8.irreps)\n",
    "print('Values: ', y_F8.array)\n",
    "print('Array shape:', y_F8.shape)"
   ]
  },
  {
   "cell_type": "markdown",
   "id": "a407fba0",
   "metadata": {},
   "source": [
    "Slicing is possible for IrrepsArray but only with valid slices, which slice full degrees (nice for safe code) \n",
    "s.t."
   ]
  },
  {
   "cell_type": "code",
   "execution_count": 14,
   "id": "8f0c35b4",
   "metadata": {},
   "outputs": [
    {
     "name": "stdout",
     "output_type": "stream",
     "text": [
      "1x0e [1.]\n",
      "1x1o [2. 2. 2.]\n",
      "8x1o [2. 2. 2. 2. 2. 2. 2. 2. 2. 2. 2. 2. 2. 2. 2. 2. 2. 2. 2. 2. 2. 2. 2. 2.]\n"
     ]
    },
    {
     "ename": "IndexError",
     "evalue": "Error in IrrepsArray.__getitem__, unable to slice 1x0e+1x1o+1x2e with 0:3.",
     "output_type": "error",
     "traceback": [
      "\u001b[0;31m---------------------------------------------------------------------------\u001b[0m",
      "\u001b[0;31mIndexError\u001b[0m                                Traceback (most recent call last)",
      "\u001b[0;32m/var/folders/tn/trhhjkts5bn9nq4_c1tt2n780000gn/T/ipykernel_59476/2294570899.py\u001b[0m in \u001b[0;36m<module>\u001b[0;34m\u001b[0m\n\u001b[1;32m      5\u001b[0m \u001b[0mprint\u001b[0m\u001b[0;34m(\u001b[0m\u001b[0my_F8\u001b[0m\u001b[0;34m[\u001b[0m\u001b[0;36m8\u001b[0m\u001b[0;34m:\u001b[0m\u001b[0;36m32\u001b[0m\u001b[0;34m]\u001b[0m\u001b[0;34m)\u001b[0m\u001b[0;34m\u001b[0m\u001b[0;34m\u001b[0m\u001b[0m\n\u001b[1;32m      6\u001b[0m \u001b[0;31m# but not\u001b[0m\u001b[0;34m\u001b[0m\u001b[0;34m\u001b[0m\u001b[0;34m\u001b[0m\u001b[0m\n\u001b[0;32m----> 7\u001b[0;31m \u001b[0mprint\u001b[0m\u001b[0;34m(\u001b[0m\u001b[0my_F1\u001b[0m\u001b[0;34m[\u001b[0m\u001b[0;34m:\u001b[0m\u001b[0;36m3\u001b[0m\u001b[0;34m]\u001b[0m\u001b[0;34m)\u001b[0m\u001b[0;34m\u001b[0m\u001b[0;34m\u001b[0m\u001b[0m\n\u001b[0m",
      "\u001b[0;32m~/Documents/venvs/mlff-dev/lib/python3.7/site-packages/e3nn_jax/_src/irreps_array.py\u001b[0m in \u001b[0;36m__getitem__\u001b[0;34m(self, index)\u001b[0m\n\u001b[1;32m    409\u001b[0m \u001b[0;34m\u001b[0m\u001b[0m\n\u001b[1;32m    410\u001b[0m             \u001b[0;32mif\u001b[0m \u001b[0mirreps_start\u001b[0m \u001b[0;32mis\u001b[0m \u001b[0;32mNone\u001b[0m \u001b[0;32mor\u001b[0m \u001b[0mirreps_stop\u001b[0m \u001b[0;32mis\u001b[0m \u001b[0;32mNone\u001b[0m\u001b[0;34m:\u001b[0m\u001b[0;34m\u001b[0m\u001b[0;34m\u001b[0m\u001b[0m\n\u001b[0;32m--> 411\u001b[0;31m                 \u001b[0;32mraise\u001b[0m \u001b[0mIndexError\u001b[0m\u001b[0;34m(\u001b[0m\u001b[0;34mf\"Error in IrrepsArray.__getitem__, unable to slice {self.irreps} with {start}:{stop}.\"\u001b[0m\u001b[0;34m)\u001b[0m\u001b[0;34m\u001b[0m\u001b[0;34m\u001b[0m\u001b[0m\n\u001b[0m\u001b[1;32m    412\u001b[0m \u001b[0;34m\u001b[0m\u001b[0m\n\u001b[1;32m    413\u001b[0m             return IrrepsArray(\n",
      "\u001b[0;31mIndexError\u001b[0m: Error in IrrepsArray.__getitem__, unable to slice 1x0e+1x1o+1x2e with 0:3."
     ]
    }
   ],
   "source": [
    "print(y_F1[:1])\n",
    "# or\n",
    "print(y_F1[1:4])\n",
    "# or \n",
    "print(y_F8[8:32])\n",
    "# but not\n",
    "print(y_F1[:3])"
   ]
  },
  {
   "cell_type": "markdown",
   "id": "ff61ebc3",
   "metadata": {},
   "source": [
    "There are multiple operations one `IrrepsArray` which can be found [here](https://e3nn-jax.readthedocs.io/en/latest/api/irreps_array.html). One example is `e3nn.norm` which computes the norm per irrep, which results in all-scalar irreps or `e3nn.sum` which can e.g. compute the sum along the batch dimension (0th axis) (should not be necessary with `jax.vmap`) or when applied to the axis with all irreps (here 1st axis) computes the sum across features. When no axis is specified it does both."
   ]
  },
  {
   "cell_type": "code",
   "execution_count": 15,
   "id": "5355a22e",
   "metadata": {},
   "outputs": [
    {
     "name": "stdout",
     "output_type": "stream",
     "text": [
      "Irreps:  2x0e+8x0e+2x0e\n",
      "Values:  [ 0.     1.     5.385 10.488 15.652 20.833 26.019 31.209 36.401 41.593\n",
      " 62.69  73.858]\n"
     ]
    }
   ],
   "source": [
    "x = e3nn.IrrepsArray(\"2x0e + 8x1o + 2x2e\", jnp.arange(36))\n",
    "\n",
    "print('Irreps: ', e3nn.norm(x).irreps)\n",
    "print('Values: ', e3nn.norm(x).array)"
   ]
  },
  {
   "cell_type": "code",
   "execution_count": 16,
   "id": "577d9198",
   "metadata": {},
   "outputs": [
    {
     "name": "stdout",
     "output_type": "stream",
     "text": [
      "Along batch dimension\n",
      "3x0e+2x1e [ 9 11 13 15 17 19 21 23 25]\n",
      "Shape:  (9,)\n",
      "\n",
      "Along irreps dimension\n",
      "1x0e+1x1e\n",
      "[[ 3  9 11 13]\n",
      " [30 27 29 31]]\n",
      "Shape:  (2, 4)\n",
      "\n",
      "Along both\n",
      "1x0e+1x1e [33 36 40 44]\n",
      "Shape:  (4,)\n"
     ]
    }
   ],
   "source": [
    "x = e3nn.IrrepsArray(\"3x0e + 2x1e\", jnp.arange(2*9).reshape(2,9))\n",
    "\n",
    "print('Along batch dimension')\n",
    "print(e3nn.sum(x, axis=0))\n",
    "print('Shape: ', e3nn.sum(x, axis=0).shape)\n",
    "print('\\nAlong irreps dimension')\n",
    "print(e3nn.sum(x, axis=1))\n",
    "print('Shape: ', e3nn.sum(x, axis=1).shape)\n",
    "print('\\nAlong both')\n",
    "print(e3nn.sum(x))\n",
    "print('Shape: ', e3nn.sum(x).shape)"
   ]
  },
  {
   "cell_type": "markdown",
   "id": "14d78d31",
   "metadata": {},
   "source": [
    "# Tensor Products"
   ]
  },
  {
   "cell_type": "markdown",
   "id": "19601972",
   "metadata": {},
   "source": [
    "## Standard Tensor Products"
   ]
  },
  {
   "cell_type": "markdown",
   "id": "6dba0c3f",
   "metadata": {},
   "source": [
    "Standard tensor product of irreps, where for input degrees $l_1$ and $l_2$ one gets output degrees $l_3 \\in (|l_1-l_2|, ..., l_1+l_2)$. Here $l_1 \\in (0,1)$ and $l_2 \\in (0,2)$, thus all $(l_1,l_2)$ combinations are $(0,0), (1,0), (0,2), (1,2)$. We see irreps with even and odd parity arising from the different $(l_1,l_2)$ combinations."
   ]
  },
  {
   "cell_type": "code",
   "execution_count": 17,
   "id": "bc92a840",
   "metadata": {
    "scrolled": true
   },
   "outputs": [
    {
     "data": {
      "text/plain": [
       "1x0e+1x1o+1x1o+1x2e+1x2o+1x3o\n",
       "[ 0.     0.     0.     0.     0.147 11.463 10.299  0.     0.     0.\n",
       "  0.     0.     4.082 -9.63   1.414 -0.328  2.449  5.657  6.928  5.184\n",
       " -1.613  8.613 11.547  9.899]"
      ]
     },
     "execution_count": 17,
     "metadata": {},
     "output_type": "execute_result"
    }
   ],
   "source": [
    "x = e3nn.IrrepsArray(\"0y + 1y\", jnp.arange(4))\n",
    "y = e3nn.IrrepsArray(\"0y + 2y\", jnp.arange(6))\n",
    "e3nn.tensor_product(x, y)"
   ]
  },
  {
   "cell_type": "markdown",
   "id": "5c6469cb",
   "metadata": {},
   "source": [
    "One can also filter the irreps during calculation."
   ]
  },
  {
   "cell_type": "code",
   "execution_count": 18,
   "id": "63a09fbb",
   "metadata": {},
   "outputs": [
    {
     "data": {
      "text/plain": [
       "1x1o+1x1o+1x2o\n",
       "[ 0.     0.     0.     0.147 11.463 10.299  4.082 -9.63   1.414 -0.328\n",
       "  2.449]"
      ]
     },
     "execution_count": 18,
     "metadata": {},
     "output_type": "execute_result"
    }
   ],
   "source": [
    "e3nn.tensor_product(x, y, filter_ir_out=[e3nn.Irrep('0o'), e3nn.Irrep('1o'), e3nn.Irrep('2o')])"
   ]
  },
  {
   "cell_type": "markdown",
   "id": "a325c243",
   "metadata": {},
   "source": [
    "## Other Tensor Product"
   ]
  },
  {
   "cell_type": "markdown",
   "id": "5a0cd3ef",
   "metadata": {},
   "source": [
    "`e3nn` also provides an class called `SymmetricTensorProduct` which performes a symmetric tensor product contraction with parameters or a `square_tensor_product` which performs a tensor product of an `IrrepsArray` with itself. See [here](https://e3nn-jax.readthedocs.io/en/latest/api/tensor_products.html) for all tensor products."
   ]
  },
  {
   "cell_type": "markdown",
   "id": "13d2e5f8",
   "metadata": {},
   "source": [
    "# Neural Network Stuff"
   ]
  },
  {
   "cell_type": "markdown",
   "id": "bd53fd4c",
   "metadata": {},
   "source": [
    "e3nn uses `haiku` for building NN architectures. To that end, it follows the typical design of first intializing the parameters and then use the modules `__call__` function as forward function with the parameters as one of the arguments."
   ]
  },
  {
   "cell_type": "markdown",
   "id": "7d0678a0",
   "metadata": {},
   "source": [
    "## Linear Layer\n",
    "A linear layer is provided where on can use the irreps string to specify the output feature dimension for each irrep."
   ]
  },
  {
   "cell_type": "code",
   "execution_count": 19,
   "id": "92e45531",
   "metadata": {},
   "outputs": [
    {
     "data": {
      "text/plain": [
       "32x0e+16x1o\n",
       "[ 0.619  1.198 -1.09   0.056 -1.627 -0.487  0.172 -1.223 -0.446 -1.429\n",
       " -2.295  0.276 -1.155 -2.084 -0.895 -0.701 -1.916 -0.241  1.033  0.328\n",
       "  1.15  -0.915  0.99   0.693  0.34  -0.069 -0.796 -1.181  0.029  2.111\n",
       "  0.004 -0.611  1.419  1.419  1.419  1.146  1.146  1.146  1.459  1.459\n",
       "  1.459  0.831  0.831  0.831 -2.729 -2.729 -2.729 -1.174 -1.174 -1.174\n",
       " -0.931 -0.931 -0.931 -0.116 -0.116 -0.116 -1.185 -1.185 -1.185 -1.587\n",
       " -1.587 -1.587 -0.669 -0.669 -0.669  0.317  0.317  0.317 -0.67  -0.67\n",
       " -0.67   0.896  0.896  0.896 -0.313 -0.313 -0.313 -0.278 -0.278 -0.278]"
      ]
     },
     "execution_count": 19,
     "metadata": {},
     "output_type": "execute_result"
    }
   ],
   "source": [
    "@hk.without_apply_rng\n",
    "@hk.transform\n",
    "def linear(x):\n",
    "    output_irreps = \"32x0e + 16x1o\"\n",
    "    return e3nn.Linear(output_irreps)(x)\n",
    "\n",
    "x = e3nn.IrrepsArray(\"16x1o + 2x0e\", jnp.ones(int(16*3+2*1)))\n",
    "params = linear.init(jax.random.PRNGKey(0), x)\n",
    "y = linear.apply(params, x)\n",
    "y"
   ]
  },
  {
   "cell_type": "code",
   "execution_count": 20,
   "id": "93a9ced2",
   "metadata": {},
   "outputs": [
    {
     "data": {
      "text/plain": [
       "(80,)"
      ]
     },
     "execution_count": 20,
     "metadata": {},
     "output_type": "execute_result"
    }
   ],
   "source": [
    "# as expeted the shape of the output irreps is shape 32*1 (l=0) + 16*3 (l=1) = 80\n",
    "y.shape"
   ]
  },
  {
   "cell_type": "markdown",
   "id": "ec46cd13",
   "metadata": {},
   "source": [
    "Interestingly, the linear layer seems to ignore irreps in the input that are not specified in the `output_irreps` string. Here we provide additionally an irrep of degree $l=2$ as input. The output, however, is the same as above. Thus one has to be careful when using the linear layer, since `e3nn.Linear` might silently remove irreps not specified as output."
   ]
  },
  {
   "cell_type": "code",
   "execution_count": 21,
   "id": "47c06849",
   "metadata": {},
   "outputs": [
    {
     "data": {
      "text/plain": [
       "32x0e+16x1o\n",
       "[0. 0. 0. 0. 0. 0. 0. 0. 0. 0. 0. 0. 0. 0. 0. 0. 0. 0. 0. 0. 0. 0. 0. 0.\n",
       " 0. 0. 0. 0. 0. 0. 0. 0. 0. 0. 0. 0. 0. 0. 0. 0. 0. 0. 0. 0. 0. 0. 0. 0.\n",
       " 0. 0. 0. 0. 0. 0. 0. 0. 0. 0. 0. 0. 0. 0. 0. 0. 0. 0. 0. 0. 0. 0. 0. 0.\n",
       " 0. 0. 0. 0. 0. 0. 0. 0.]"
      ]
     },
     "execution_count": 21,
     "metadata": {},
     "output_type": "execute_result"
    }
   ],
   "source": [
    "@hk.without_apply_rng\n",
    "@hk.transform\n",
    "def linear(x):\n",
    "    output_irreps = \"32x0e + 16x1o\"\n",
    "    return e3nn.Linear(output_irreps)(x)\n",
    "\n",
    "x = e3nn.IrrepsArray(\"1x2o + 16x1o + 2x0e\", jnp.ones(int(1*5+16*3+2*1)))\n",
    "params = linear.init(jax.random.PRNGKey(0), x)\n",
    "y1 = linear.apply(params, x)\n",
    "y1 - y"
   ]
  },
  {
   "cell_type": "markdown",
   "id": "a7f98716",
   "metadata": {},
   "source": [
    "## Gated Activation Function\n",
    "They also provide a module for gated activations. The idea is that the scalars serve as coefficients for the degrees. Thus in order to apply a gated activation to an irrep of the form `2x1e + 1x2e` (three non-scalar irreps in total) one needs at least three scalars. If there are more scalars than non-scalars, the unused scalars are just kept in the scalar irrep. One can also apply activation function to the scalars that are unused and the scalars that are used as gates for the non-scalar irreps, where one can even apply different activation functiond depending on the parity of the irrep. See [here](https://e3nn-jax.readthedocs.io/en/latest/api/nn.html#e3nn_jax.gate). In the following we just give the irreps string as input to obtain what the output would look like."
   ]
  },
  {
   "cell_type": "code",
   "execution_count": 25,
   "id": "d90f77c8",
   "metadata": {},
   "outputs": [
    {
     "data": {
      "text/plain": [
       "2x1e+1x2e"
      ]
     },
     "execution_count": 25,
     "metadata": {},
     "output_type": "execute_result"
    }
   ],
   "source": [
    "e3nn.gate(\"3x0e + 2x1e + 1x2e\")  # works"
   ]
  },
  {
   "cell_type": "code",
   "execution_count": 26,
   "id": "2ce5ce6c",
   "metadata": {
    "scrolled": true
   },
   "outputs": [
    {
     "ename": "ValueError",
     "evalue": "The input must have at least as many scalars as the number of non-scalar irreps",
     "output_type": "error",
     "traceback": [
      "\u001b[0;31m---------------------------------------------------------------------------\u001b[0m",
      "\u001b[0;31mValueError\u001b[0m                                Traceback (most recent call last)",
      "\u001b[0;32m/var/folders/tn/trhhjkts5bn9nq4_c1tt2n780000gn/T/ipykernel_59476/2402628733.py\u001b[0m in \u001b[0;36m<module>\u001b[0;34m\u001b[0m\n\u001b[0;32m----> 1\u001b[0;31m \u001b[0me3nn\u001b[0m\u001b[0;34m.\u001b[0m\u001b[0mgate\u001b[0m\u001b[0;34m(\u001b[0m\u001b[0;34m\"2x0e + 2x1e + 1x2e\"\u001b[0m\u001b[0;34m)\u001b[0m  \u001b[0;31m# fails\u001b[0m\u001b[0;34m\u001b[0m\u001b[0;34m\u001b[0m\u001b[0m\n\u001b[0m",
      "\u001b[0;32m~/Documents/venvs/mlff-dev/lib/python3.7/site-packages/e3nn_jax/_src/util/decorators.py\u001b[0m in \u001b[0;36mwrapper\u001b[0;34m(*args, **kwargs)\u001b[0m\n\u001b[1;32m     28\u001b[0m                     \u001b[0;32mreturn\u001b[0m \u001b[0mfunc\u001b[0m\u001b[0;34m(\u001b[0m\u001b[0;34m*\u001b[0m\u001b[0margs_\u001b[0m\u001b[0;34m,\u001b[0m \u001b[0;34m**\u001b[0m\u001b[0mkwargs_\u001b[0m\u001b[0;34m)\u001b[0m\u001b[0;34m\u001b[0m\u001b[0;34m\u001b[0m\u001b[0m\n\u001b[1;32m     29\u001b[0m \u001b[0;34m\u001b[0m\u001b[0m\n\u001b[0;32m---> 30\u001b[0;31m                 \u001b[0moutput\u001b[0m \u001b[0;34m=\u001b[0m \u001b[0mjax\u001b[0m\u001b[0;34m.\u001b[0m\u001b[0meval_shape\u001b[0m\u001b[0;34m(\u001b[0m\u001b[0mfn\u001b[0m\u001b[0;34m,\u001b[0m \u001b[0mconverted_args\u001b[0m\u001b[0;34m)\u001b[0m\u001b[0;34m\u001b[0m\u001b[0;34m\u001b[0m\u001b[0m\n\u001b[0m\u001b[1;32m     31\u001b[0m \u001b[0;34m\u001b[0m\u001b[0m\n\u001b[1;32m     32\u001b[0m                 \u001b[0;32mif\u001b[0m \u001b[0misinstance\u001b[0m\u001b[0;34m(\u001b[0m\u001b[0moutput\u001b[0m\u001b[0;34m,\u001b[0m \u001b[0mIrrepsArray\u001b[0m\u001b[0;34m)\u001b[0m\u001b[0;34m:\u001b[0m\u001b[0;34m\u001b[0m\u001b[0;34m\u001b[0m\u001b[0m\n",
      "\u001b[0;32m~/Documents/venvs/mlff-dev/lib/python3.7/site-packages/jax/_src/api.py\u001b[0m in \u001b[0;36meval_shape\u001b[0;34m(fun, *args, **kwargs)\u001b[0m\n\u001b[1;32m   3106\u001b[0m   out = pe.abstract_eval_fun(wrapped_fun.call_wrapped,\n\u001b[1;32m   3107\u001b[0m                              \u001b[0;34m*\u001b[0m\u001b[0mmap\u001b[0m\u001b[0;34m(\u001b[0m\u001b[0mshaped_abstractify\u001b[0m\u001b[0;34m,\u001b[0m \u001b[0margs_flat\u001b[0m\u001b[0;34m)\u001b[0m\u001b[0;34m,\u001b[0m\u001b[0;34m\u001b[0m\u001b[0;34m\u001b[0m\u001b[0m\n\u001b[0;32m-> 3108\u001b[0;31m                              debug_info=debug_info)\n\u001b[0m\u001b[1;32m   3109\u001b[0m   \u001b[0mout\u001b[0m \u001b[0;34m=\u001b[0m \u001b[0;34m[\u001b[0m\u001b[0mShapeDtypeStruct\u001b[0m\u001b[0;34m(\u001b[0m\u001b[0mx\u001b[0m\u001b[0;34m.\u001b[0m\u001b[0mshape\u001b[0m\u001b[0;34m,\u001b[0m \u001b[0mx\u001b[0m\u001b[0;34m.\u001b[0m\u001b[0mdtype\u001b[0m\u001b[0;34m,\u001b[0m \u001b[0mx\u001b[0m\u001b[0;34m.\u001b[0m\u001b[0mnamed_shape\u001b[0m\u001b[0;34m)\u001b[0m \u001b[0;32mfor\u001b[0m \u001b[0mx\u001b[0m \u001b[0;32min\u001b[0m \u001b[0mout\u001b[0m\u001b[0;34m]\u001b[0m\u001b[0;34m\u001b[0m\u001b[0;34m\u001b[0m\u001b[0m\n\u001b[1;32m   3110\u001b[0m   \u001b[0;32mreturn\u001b[0m \u001b[0mtree_unflatten\u001b[0m\u001b[0;34m(\u001b[0m\u001b[0mout_tree\u001b[0m\u001b[0;34m(\u001b[0m\u001b[0;34m)\u001b[0m\u001b[0;34m,\u001b[0m \u001b[0mout\u001b[0m\u001b[0;34m)\u001b[0m\u001b[0;34m\u001b[0m\u001b[0;34m\u001b[0m\u001b[0m\n",
      "\u001b[0;32m~/Documents/venvs/mlff-dev/lib/python3.7/site-packages/jax/interpreters/partial_eval.py\u001b[0m in \u001b[0;36mabstract_eval_fun\u001b[0;34m(fun, debug_info, *avals, **params)\u001b[0m\n\u001b[1;32m    661\u001b[0m \u001b[0;32mdef\u001b[0m \u001b[0mabstract_eval_fun\u001b[0m\u001b[0;34m(\u001b[0m\u001b[0mfun\u001b[0m\u001b[0;34m,\u001b[0m \u001b[0;34m*\u001b[0m\u001b[0mavals\u001b[0m\u001b[0;34m,\u001b[0m \u001b[0mdebug_info\u001b[0m\u001b[0;34m=\u001b[0m\u001b[0;32mNone\u001b[0m\u001b[0;34m,\u001b[0m \u001b[0;34m**\u001b[0m\u001b[0mparams\u001b[0m\u001b[0;34m)\u001b[0m\u001b[0;34m:\u001b[0m\u001b[0;34m\u001b[0m\u001b[0;34m\u001b[0m\u001b[0m\n\u001b[1;32m    662\u001b[0m   _, avals_out, _ = trace_to_jaxpr_dynamic(\n\u001b[0;32m--> 663\u001b[0;31m       lu.wrap_init(fun, params), avals, debug_info)\n\u001b[0m\u001b[1;32m    664\u001b[0m   \u001b[0;32massert\u001b[0m \u001b[0mall\u001b[0m\u001b[0;34m(\u001b[0m\u001b[0misinstance\u001b[0m\u001b[0;34m(\u001b[0m\u001b[0maval\u001b[0m\u001b[0;34m,\u001b[0m \u001b[0mAbstractValue\u001b[0m\u001b[0;34m)\u001b[0m \u001b[0;32mfor\u001b[0m \u001b[0maval\u001b[0m \u001b[0;32min\u001b[0m \u001b[0mavals_out\u001b[0m\u001b[0;34m)\u001b[0m\u001b[0;34m\u001b[0m\u001b[0;34m\u001b[0m\u001b[0m\n\u001b[1;32m    665\u001b[0m   \u001b[0;32mreturn\u001b[0m \u001b[0mavals_out\u001b[0m\u001b[0;34m\u001b[0m\u001b[0;34m\u001b[0m\u001b[0m\n",
      "\u001b[0;32m~/Documents/venvs/mlff-dev/lib/python3.7/site-packages/jax/_src/profiler.py\u001b[0m in \u001b[0;36mwrapper\u001b[0;34m(*args, **kwargs)\u001b[0m\n\u001b[1;32m    311\u001b[0m   \u001b[0;32mdef\u001b[0m \u001b[0mwrapper\u001b[0m\u001b[0;34m(\u001b[0m\u001b[0;34m*\u001b[0m\u001b[0margs\u001b[0m\u001b[0;34m,\u001b[0m \u001b[0;34m**\u001b[0m\u001b[0mkwargs\u001b[0m\u001b[0;34m)\u001b[0m\u001b[0;34m:\u001b[0m\u001b[0;34m\u001b[0m\u001b[0;34m\u001b[0m\u001b[0m\n\u001b[1;32m    312\u001b[0m     \u001b[0;32mwith\u001b[0m \u001b[0mTraceAnnotation\u001b[0m\u001b[0;34m(\u001b[0m\u001b[0mname\u001b[0m\u001b[0;34m,\u001b[0m \u001b[0;34m**\u001b[0m\u001b[0mdecorator_kwargs\u001b[0m\u001b[0;34m)\u001b[0m\u001b[0;34m:\u001b[0m\u001b[0;34m\u001b[0m\u001b[0;34m\u001b[0m\u001b[0m\n\u001b[0;32m--> 313\u001b[0;31m       \u001b[0;32mreturn\u001b[0m \u001b[0mfunc\u001b[0m\u001b[0;34m(\u001b[0m\u001b[0;34m*\u001b[0m\u001b[0margs\u001b[0m\u001b[0;34m,\u001b[0m \u001b[0;34m**\u001b[0m\u001b[0mkwargs\u001b[0m\u001b[0;34m)\u001b[0m\u001b[0;34m\u001b[0m\u001b[0;34m\u001b[0m\u001b[0m\n\u001b[0m\u001b[1;32m    314\u001b[0m     \u001b[0;32mreturn\u001b[0m \u001b[0mwrapper\u001b[0m\u001b[0;34m\u001b[0m\u001b[0;34m\u001b[0m\u001b[0m\n\u001b[1;32m    315\u001b[0m   \u001b[0;32mreturn\u001b[0m \u001b[0mwrapper\u001b[0m\u001b[0;34m\u001b[0m\u001b[0;34m\u001b[0m\u001b[0m\n",
      "\u001b[0;32m~/Documents/venvs/mlff-dev/lib/python3.7/site-packages/jax/interpreters/partial_eval.py\u001b[0m in \u001b[0;36mtrace_to_jaxpr_dynamic\u001b[0;34m(fun, in_avals, debug_info, keep_inputs)\u001b[0m\n\u001b[1;32m   1983\u001b[0m     \u001b[0mmain\u001b[0m\u001b[0;34m.\u001b[0m\u001b[0mjaxpr_stack\u001b[0m \u001b[0;34m=\u001b[0m \u001b[0;34m(\u001b[0m\u001b[0;34m)\u001b[0m  \u001b[0;31m# type: ignore\u001b[0m\u001b[0;34m\u001b[0m\u001b[0;34m\u001b[0m\u001b[0m\n\u001b[1;32m   1984\u001b[0m     jaxpr, out_avals, consts = trace_to_subjaxpr_dynamic(\n\u001b[0;32m-> 1985\u001b[0;31m       fun, main, in_avals, keep_inputs=keep_inputs, debug_info=debug_info)\n\u001b[0m\u001b[1;32m   1986\u001b[0m     \u001b[0;32mdel\u001b[0m \u001b[0mmain\u001b[0m\u001b[0;34m,\u001b[0m \u001b[0mfun\u001b[0m\u001b[0;34m\u001b[0m\u001b[0;34m\u001b[0m\u001b[0m\n\u001b[1;32m   1987\u001b[0m   \u001b[0;32mreturn\u001b[0m \u001b[0mjaxpr\u001b[0m\u001b[0;34m,\u001b[0m \u001b[0mout_avals\u001b[0m\u001b[0;34m,\u001b[0m \u001b[0mconsts\u001b[0m\u001b[0;34m\u001b[0m\u001b[0;34m\u001b[0m\u001b[0m\n",
      "\u001b[0;32m~/Documents/venvs/mlff-dev/lib/python3.7/site-packages/jax/interpreters/partial_eval.py\u001b[0m in \u001b[0;36mtrace_to_subjaxpr_dynamic\u001b[0;34m(fun, main, in_avals, keep_inputs, debug_info)\u001b[0m\n\u001b[1;32m   1999\u001b[0m     \u001b[0min_tracers\u001b[0m \u001b[0;34m=\u001b[0m \u001b[0m_input_type_to_tracers\u001b[0m\u001b[0;34m(\u001b[0m\u001b[0mtrace\u001b[0m\u001b[0;34m.\u001b[0m\u001b[0mnew_arg\u001b[0m\u001b[0;34m,\u001b[0m \u001b[0min_avals\u001b[0m\u001b[0;34m)\u001b[0m\u001b[0;34m\u001b[0m\u001b[0;34m\u001b[0m\u001b[0m\n\u001b[1;32m   2000\u001b[0m     \u001b[0min_tracers_\u001b[0m \u001b[0;34m=\u001b[0m \u001b[0;34m[\u001b[0m\u001b[0mt\u001b[0m \u001b[0;32mfor\u001b[0m \u001b[0mt\u001b[0m\u001b[0;34m,\u001b[0m \u001b[0mkeep\u001b[0m \u001b[0;32min\u001b[0m \u001b[0mzip\u001b[0m\u001b[0;34m(\u001b[0m\u001b[0min_tracers\u001b[0m\u001b[0;34m,\u001b[0m \u001b[0mkeep_inputs\u001b[0m\u001b[0;34m)\u001b[0m \u001b[0;32mif\u001b[0m \u001b[0mkeep\u001b[0m\u001b[0;34m]\u001b[0m\u001b[0;34m\u001b[0m\u001b[0;34m\u001b[0m\u001b[0m\n\u001b[0;32m-> 2001\u001b[0;31m     \u001b[0mans\u001b[0m \u001b[0;34m=\u001b[0m \u001b[0mfun\u001b[0m\u001b[0;34m.\u001b[0m\u001b[0mcall_wrapped\u001b[0m\u001b[0;34m(\u001b[0m\u001b[0;34m*\u001b[0m\u001b[0min_tracers_\u001b[0m\u001b[0;34m)\u001b[0m\u001b[0;34m\u001b[0m\u001b[0;34m\u001b[0m\u001b[0m\n\u001b[0m\u001b[1;32m   2002\u001b[0m     \u001b[0mout_tracers\u001b[0m \u001b[0;34m=\u001b[0m \u001b[0mmap\u001b[0m\u001b[0;34m(\u001b[0m\u001b[0mtrace\u001b[0m\u001b[0;34m.\u001b[0m\u001b[0mfull_raise\u001b[0m\u001b[0;34m,\u001b[0m \u001b[0mans\u001b[0m\u001b[0;34m)\u001b[0m\u001b[0;34m\u001b[0m\u001b[0;34m\u001b[0m\u001b[0m\n\u001b[1;32m   2003\u001b[0m     \u001b[0mjaxpr\u001b[0m\u001b[0;34m,\u001b[0m \u001b[0mconsts\u001b[0m \u001b[0;34m=\u001b[0m \u001b[0mframe\u001b[0m\u001b[0;34m.\u001b[0m\u001b[0mto_jaxpr\u001b[0m\u001b[0;34m(\u001b[0m\u001b[0mout_tracers\u001b[0m\u001b[0;34m)\u001b[0m\u001b[0;34m\u001b[0m\u001b[0;34m\u001b[0m\u001b[0m\n",
      "\u001b[0;32m~/Documents/venvs/mlff-dev/lib/python3.7/site-packages/jax/linear_util.py\u001b[0m in \u001b[0;36mcall_wrapped\u001b[0;34m(self, *args, **kwargs)\u001b[0m\n\u001b[1;32m    166\u001b[0m \u001b[0;34m\u001b[0m\u001b[0m\n\u001b[1;32m    167\u001b[0m     \u001b[0;32mtry\u001b[0m\u001b[0;34m:\u001b[0m\u001b[0;34m\u001b[0m\u001b[0;34m\u001b[0m\u001b[0m\n\u001b[0;32m--> 168\u001b[0;31m       \u001b[0mans\u001b[0m \u001b[0;34m=\u001b[0m \u001b[0mself\u001b[0m\u001b[0;34m.\u001b[0m\u001b[0mf\u001b[0m\u001b[0;34m(\u001b[0m\u001b[0;34m*\u001b[0m\u001b[0margs\u001b[0m\u001b[0;34m,\u001b[0m \u001b[0;34m**\u001b[0m\u001b[0mdict\u001b[0m\u001b[0;34m(\u001b[0m\u001b[0mself\u001b[0m\u001b[0;34m.\u001b[0m\u001b[0mparams\u001b[0m\u001b[0;34m,\u001b[0m \u001b[0;34m**\u001b[0m\u001b[0mkwargs\u001b[0m\u001b[0;34m)\u001b[0m\u001b[0;34m)\u001b[0m\u001b[0;34m\u001b[0m\u001b[0;34m\u001b[0m\u001b[0m\n\u001b[0m\u001b[1;32m    169\u001b[0m     \u001b[0;32mexcept\u001b[0m\u001b[0;34m:\u001b[0m\u001b[0;34m\u001b[0m\u001b[0;34m\u001b[0m\u001b[0m\n\u001b[1;32m    170\u001b[0m       \u001b[0;31m# Some transformations yield from inside context managers, so we have to\u001b[0m\u001b[0;34m\u001b[0m\u001b[0;34m\u001b[0m\u001b[0;34m\u001b[0m\u001b[0m\n",
      "\u001b[0;32m~/Documents/venvs/mlff-dev/lib/python3.7/site-packages/jax/linear_util.py\u001b[0m in \u001b[0;36mcall_wrapped\u001b[0;34m(self, *args, **kwargs)\u001b[0m\n\u001b[1;32m    166\u001b[0m \u001b[0;34m\u001b[0m\u001b[0m\n\u001b[1;32m    167\u001b[0m     \u001b[0;32mtry\u001b[0m\u001b[0;34m:\u001b[0m\u001b[0;34m\u001b[0m\u001b[0;34m\u001b[0m\u001b[0m\n\u001b[0;32m--> 168\u001b[0;31m       \u001b[0mans\u001b[0m \u001b[0;34m=\u001b[0m \u001b[0mself\u001b[0m\u001b[0;34m.\u001b[0m\u001b[0mf\u001b[0m\u001b[0;34m(\u001b[0m\u001b[0;34m*\u001b[0m\u001b[0margs\u001b[0m\u001b[0;34m,\u001b[0m \u001b[0;34m**\u001b[0m\u001b[0mdict\u001b[0m\u001b[0;34m(\u001b[0m\u001b[0mself\u001b[0m\u001b[0;34m.\u001b[0m\u001b[0mparams\u001b[0m\u001b[0;34m,\u001b[0m \u001b[0;34m**\u001b[0m\u001b[0mkwargs\u001b[0m\u001b[0;34m)\u001b[0m\u001b[0;34m)\u001b[0m\u001b[0;34m\u001b[0m\u001b[0;34m\u001b[0m\u001b[0m\n\u001b[0m\u001b[1;32m    169\u001b[0m     \u001b[0;32mexcept\u001b[0m\u001b[0;34m:\u001b[0m\u001b[0;34m\u001b[0m\u001b[0;34m\u001b[0m\u001b[0m\n\u001b[1;32m    170\u001b[0m       \u001b[0;31m# Some transformations yield from inside context managers, so we have to\u001b[0m\u001b[0;34m\u001b[0m\u001b[0;34m\u001b[0m\u001b[0;34m\u001b[0m\u001b[0m\n",
      "\u001b[0;32m~/Documents/venvs/mlff-dev/lib/python3.7/site-packages/e3nn_jax/_src/util/decorators.py\u001b[0m in \u001b[0;36mfn\u001b[0;34m(converted_args)\u001b[0m\n\u001b[1;32m     26\u001b[0m                     \u001b[0margs_\u001b[0m \u001b[0;34m=\u001b[0m \u001b[0;34m[\u001b[0m\u001b[0mconverted_args\u001b[0m\u001b[0;34m.\u001b[0m\u001b[0mget\u001b[0m\u001b[0;34m(\u001b[0m\u001b[0mi\u001b[0m\u001b[0;34m,\u001b[0m \u001b[0ma\u001b[0m\u001b[0;34m)\u001b[0m \u001b[0;32mfor\u001b[0m \u001b[0mi\u001b[0m\u001b[0;34m,\u001b[0m \u001b[0ma\u001b[0m \u001b[0;32min\u001b[0m \u001b[0menumerate\u001b[0m\u001b[0;34m(\u001b[0m\u001b[0margs\u001b[0m\u001b[0;34m)\u001b[0m\u001b[0;34m]\u001b[0m\u001b[0;34m\u001b[0m\u001b[0;34m\u001b[0m\u001b[0m\n\u001b[1;32m     27\u001b[0m                     \u001b[0mkwargs_\u001b[0m \u001b[0;34m=\u001b[0m \u001b[0;34m{\u001b[0m\u001b[0mk\u001b[0m\u001b[0;34m:\u001b[0m \u001b[0mconverted_args\u001b[0m\u001b[0;34m.\u001b[0m\u001b[0mget\u001b[0m\u001b[0;34m(\u001b[0m\u001b[0mk\u001b[0m\u001b[0;34m,\u001b[0m \u001b[0mv\u001b[0m\u001b[0;34m)\u001b[0m \u001b[0;32mfor\u001b[0m \u001b[0mk\u001b[0m\u001b[0;34m,\u001b[0m \u001b[0mv\u001b[0m \u001b[0;32min\u001b[0m \u001b[0mkwargs\u001b[0m\u001b[0;34m.\u001b[0m\u001b[0mitems\u001b[0m\u001b[0;34m(\u001b[0m\u001b[0;34m)\u001b[0m\u001b[0;34m}\u001b[0m\u001b[0;34m\u001b[0m\u001b[0;34m\u001b[0m\u001b[0m\n\u001b[0;32m---> 28\u001b[0;31m                     \u001b[0;32mreturn\u001b[0m \u001b[0mfunc\u001b[0m\u001b[0;34m(\u001b[0m\u001b[0;34m*\u001b[0m\u001b[0margs_\u001b[0m\u001b[0;34m,\u001b[0m \u001b[0;34m**\u001b[0m\u001b[0mkwargs_\u001b[0m\u001b[0;34m)\u001b[0m\u001b[0;34m\u001b[0m\u001b[0;34m\u001b[0m\u001b[0m\n\u001b[0m\u001b[1;32m     29\u001b[0m \u001b[0;34m\u001b[0m\u001b[0m\n\u001b[1;32m     30\u001b[0m                 \u001b[0moutput\u001b[0m \u001b[0;34m=\u001b[0m \u001b[0mjax\u001b[0m\u001b[0;34m.\u001b[0m\u001b[0meval_shape\u001b[0m\u001b[0;34m(\u001b[0m\u001b[0mfn\u001b[0m\u001b[0;34m,\u001b[0m \u001b[0mconverted_args\u001b[0m\u001b[0;34m)\u001b[0m\u001b[0;34m\u001b[0m\u001b[0;34m\u001b[0m\u001b[0m\n",
      "\u001b[0;32m~/Documents/venvs/mlff-dev/lib/python3.7/site-packages/e3nn_jax/_src/gate.py\u001b[0m in \u001b[0;36mgate\u001b[0;34m(input, even_act, odd_act, even_gate_act, odd_gate_act)\u001b[0m\n\u001b[1;32m     85\u001b[0m         \u001b[0modd_gate_act\u001b[0m \u001b[0;34m=\u001b[0m \u001b[0mjax\u001b[0m\u001b[0;34m.\u001b[0m\u001b[0mnn\u001b[0m\u001b[0;34m.\u001b[0m\u001b[0mtanh\u001b[0m\u001b[0;34m\u001b[0m\u001b[0;34m\u001b[0m\u001b[0m\n\u001b[1;32m     86\u001b[0m \u001b[0;34m\u001b[0m\u001b[0m\n\u001b[0;32m---> 87\u001b[0;31m     \u001b[0;32mreturn\u001b[0m \u001b[0m_gate\u001b[0m\u001b[0;34m(\u001b[0m\u001b[0minput\u001b[0m\u001b[0;34m,\u001b[0m \u001b[0meven_act\u001b[0m\u001b[0;34m,\u001b[0m \u001b[0modd_act\u001b[0m\u001b[0;34m,\u001b[0m \u001b[0meven_gate_act\u001b[0m\u001b[0;34m,\u001b[0m \u001b[0modd_gate_act\u001b[0m\u001b[0;34m)\u001b[0m\u001b[0;34m\u001b[0m\u001b[0;34m\u001b[0m\u001b[0m\n\u001b[0m",
      "    \u001b[0;31m[... skipping hidden 7 frame]\u001b[0m\n",
      "\u001b[0;32m~/Documents/venvs/mlff-dev/lib/python3.7/site-packages/e3nn_jax/_src/gate.py\u001b[0m in \u001b[0;36m_gate\u001b[0;34m(***failed resolving arguments***)\u001b[0m\n\u001b[1;32m     22\u001b[0m \u001b[0;34m\u001b[0m\u001b[0m\n\u001b[1;32m     23\u001b[0m     \u001b[0;32mif\u001b[0m \u001b[0mscalars\u001b[0m\u001b[0;34m.\u001b[0m\u001b[0mirreps\u001b[0m\u001b[0;34m.\u001b[0m\u001b[0mdim\u001b[0m \u001b[0;34m<\u001b[0m \u001b[0mvectors\u001b[0m\u001b[0;34m.\u001b[0m\u001b[0mirreps\u001b[0m\u001b[0;34m.\u001b[0m\u001b[0mnum_irreps\u001b[0m\u001b[0;34m:\u001b[0m\u001b[0;34m\u001b[0m\u001b[0;34m\u001b[0m\u001b[0m\n\u001b[0;32m---> 24\u001b[0;31m         \u001b[0;32mraise\u001b[0m \u001b[0mValueError\u001b[0m\u001b[0;34m(\u001b[0m\u001b[0;34m\"The input must have at least as many scalars as the number of non-scalar irreps\"\u001b[0m\u001b[0;34m)\u001b[0m\u001b[0;34m\u001b[0m\u001b[0;34m\u001b[0m\u001b[0m\n\u001b[0m\u001b[1;32m     25\u001b[0m \u001b[0;34m\u001b[0m\u001b[0m\n\u001b[1;32m     26\u001b[0m     \u001b[0mscalars_extra\u001b[0m \u001b[0;34m=\u001b[0m \u001b[0mscalars\u001b[0m\u001b[0;34m.\u001b[0m\u001b[0mslice_by_mul\u001b[0m\u001b[0;34m[\u001b[0m\u001b[0;34m:\u001b[0m \u001b[0mscalars\u001b[0m\u001b[0;34m.\u001b[0m\u001b[0mirreps\u001b[0m\u001b[0;34m.\u001b[0m\u001b[0mdim\u001b[0m \u001b[0;34m-\u001b[0m \u001b[0mvectors\u001b[0m\u001b[0;34m.\u001b[0m\u001b[0mirreps\u001b[0m\u001b[0;34m.\u001b[0m\u001b[0mnum_irreps\u001b[0m\u001b[0;34m]\u001b[0m\u001b[0;34m\u001b[0m\u001b[0;34m\u001b[0m\u001b[0m\n",
      "\u001b[0;31mValueError\u001b[0m: The input must have at least as many scalars as the number of non-scalar irreps"
     ]
    }
   ],
   "source": [
    "e3nn.gate(\"2x0e + 2x1e + 1x2e\")  # fails"
   ]
  },
  {
   "cell_type": "code",
   "execution_count": 27,
   "id": "669f5ca9",
   "metadata": {
    "scrolled": true
   },
   "outputs": [
    {
     "data": {
      "text/plain": [
       "9x0e+2x1e+1x2e"
      ]
     },
     "execution_count": 27,
     "metadata": {},
     "output_type": "execute_result"
    }
   ],
   "source": [
    "e3nn.gate(\"12x0e + 2x1e + 1x2e\")  # 12 - 2 - 1 = 9 scalars remain"
   ]
  },
  {
   "cell_type": "markdown",
   "id": "6ae47f50",
   "metadata": {},
   "source": [
    "## Other stuff\n",
    "Also batch norm and dropout are provided, which I guess we can skip."
   ]
  },
  {
   "cell_type": "markdown",
   "id": "71e51f7a",
   "metadata": {},
   "source": [
    "# Build a Neural Network"
   ]
  },
  {
   "cell_type": "markdown",
   "id": "84237518",
   "metadata": {},
   "source": [
    "Here a little example of a neural network using `n_layers` pairs of linear layers and gated activation."
   ]
  },
  {
   "cell_type": "code",
   "execution_count": 28,
   "id": "28bcce6d",
   "metadata": {},
   "outputs": [],
   "source": [
    "class SO3MLP(hk.Module):\n",
    "    def __init__(self, n_layers, out_irreps, activation_fn=jax.nn.sigmoid):\n",
    "        super().__init__()\n",
    "        \n",
    "        self.n_layers = n_layers\n",
    "        self.out_irreps = out_irreps\n",
    "        self.activation_fn = activation_fn\n",
    "    def __call__(self, x: e3nn.IrrepsArray):\n",
    "        \n",
    "        for _ in range(self.n_layers):\n",
    "            x = e3nn.Linear(self.out_irreps)(x)\n",
    "            x = e3nn.gate(x, \n",
    "                          even_act=self.activation_fn,\n",
    "                          odd_act=self.activation_fn,\n",
    "                          odd_gate_act=self.activation_fn,\n",
    "                          even_gate_act=self.activation_fn)\n",
    "        \n",
    "        \n",
    "        return x"
   ]
  },
  {
   "cell_type": "code",
   "execution_count": 30,
   "id": "10d86d63",
   "metadata": {},
   "outputs": [
    {
     "data": {
      "text/plain": [
       "8x0e+8x2e+16x1o\n",
       "[[ 1.68   0.478  1.004  1.358  1.017  0.993  1.178  0.845 -0.085 -0.071\n",
       "  -0.108 -0.073 -0.078 -0.257 -0.213 -0.324 -0.22  -0.234  0.318  0.262\n",
       "   0.4    0.271  0.289  0.112  0.093  0.142  0.096  0.102 -0.071 -0.058\n",
       "  -0.089 -0.06  -0.064 -0.065 -0.053 -0.081 -0.055 -0.059 -0.09  -0.074\n",
       "  -0.113 -0.077 -0.082  0.036  0.03   0.045  0.031  0.033 -1.006 -0.492\n",
       "  -1.039 -0.221 -0.108 -0.229 -0.388 -0.19  -0.401  0.402  0.197  0.416\n",
       "  -0.104 -0.051 -0.107  0.248  0.121  0.257 -0.024 -0.012 -0.025 -0.996\n",
       "  -0.487 -1.028 -1.049 -0.513 -1.084  0.538  0.263  0.556  0.733  0.359\n",
       "   0.758  1.65   0.806  1.704 -0.021 -0.01  -0.021 -0.686 -0.335 -0.709\n",
       "   0.449  0.22   0.464  0.389  0.19   0.402]\n",
       " [ 1.667  0.501  1.041  1.363  1.056  0.999  1.154  0.828 -0.087 -0.098\n",
       "  -0.106 -0.042 -0.062 -0.253 -0.285 -0.308 -0.123 -0.179  0.316  0.356\n",
       "   0.385  0.153  0.223  0.102  0.115  0.124  0.05   0.072 -0.075 -0.085\n",
       "  -0.092 -0.037 -0.053 -0.067 -0.076 -0.082 -0.033 -0.048 -0.102 -0.116\n",
       "  -0.125 -0.05  -0.073  0.032  0.036  0.039  0.016  0.023 -1.39  -0.427\n",
       "  -0.597 -0.301 -0.092 -0.129 -0.414 -0.127 -0.178  0.604  0.186  0.26\n",
       "  -0.145 -0.045 -0.062  0.349  0.107  0.15  -0.119 -0.037 -0.051 -1.269\n",
       "  -0.39  -0.546 -1.49  -0.458 -0.641  0.776  0.239  0.334  0.964  0.296\n",
       "   0.414  2.366  0.727  1.017 -0.084 -0.026 -0.036 -1.001 -0.308 -0.43\n",
       "   0.649  0.2    0.279  0.525  0.161  0.226]\n",
       " [ 1.671  0.494  1.031  1.362  1.046  0.997  1.161  0.832 -0.087 -0.107\n",
       "  -0.072 -0.077 -0.123 -0.254 -0.314 -0.21  -0.225 -0.36   0.316  0.391\n",
       "   0.261  0.281  0.448  0.105  0.13   0.087  0.093  0.149 -0.074 -0.092\n",
       "  -0.061 -0.066 -0.105 -0.067 -0.082 -0.055 -0.059 -0.094 -0.099 -0.122\n",
       "  -0.082 -0.088 -0.14   0.033  0.041  0.028  0.03   0.047 -1.019  0.274\n",
       "  -0.731 -0.221  0.06  -0.159 -0.327  0.088 -0.235  0.434 -0.117  0.311\n",
       "  -0.106  0.029 -0.076  0.255 -0.068  0.183 -0.071  0.019 -0.051 -0.951\n",
       "   0.256 -0.682 -1.085  0.292 -0.778  0.563 -0.151  0.404  0.716 -0.193\n",
       "   0.514  1.719 -0.462  1.233 -0.051  0.014 -0.036 -0.723  0.195 -0.519\n",
       "   0.47  -0.126  0.338  0.387 -0.104  0.278]\n",
       " [ 1.642  0.542  1.104  1.371  1.122  1.008  1.112  0.798 -0.09  -0.155\n",
       "  -0.012 -0.015 -0.032 -0.246 -0.423 -0.032 -0.04  -0.088  0.312  0.537\n",
       "   0.041  0.051  0.112  0.085  0.146  0.011  0.014  0.03  -0.085 -0.145\n",
       "  -0.011 -0.014 -0.03  -0.072 -0.124 -0.01  -0.012 -0.026 -0.125 -0.216\n",
       "  -0.017 -0.02  -0.045  0.025  0.043  0.003  0.004  0.009 -0.243  0.913\n",
       "  -0.023 -0.051  0.192 -0.005 -0.041  0.155 -0.004  0.116 -0.437  0.011\n",
       "  -0.022  0.083 -0.002  0.064 -0.239  0.006 -0.041  0.155 -0.004 -0.196\n",
       "   0.734 -0.018 -0.269  1.008 -0.025  0.144 -0.541  0.014  0.157 -0.589\n",
       "   0.015  0.432 -1.622  0.041 -0.029  0.11  -0.003 -0.189  0.709 -0.018\n",
       "   0.121 -0.454  0.011  0.088 -0.331  0.008]\n",
       " [ 1.695  0.45   0.957  1.353  0.967  0.986  1.208  0.867 -0.083 -0.003\n",
       "  -0.105 -0.098 -0.004 -0.263 -0.008 -0.332 -0.311 -0.012  0.32   0.01\n",
       "   0.405  0.378  0.015  0.125  0.004  0.159  0.148  0.006 -0.065 -0.002\n",
       "  -0.082 -0.076 -0.003 -0.061 -0.002 -0.078 -0.072 -0.003 -0.075 -0.002\n",
       "  -0.094 -0.088 -0.003  0.04   0.001  0.051  0.048  0.002 -0.035 -0.475\n",
       "  -1.366 -0.008 -0.107 -0.308 -0.018 -0.242 -0.695  0.013  0.167  0.482\n",
       "  -0.004 -0.049 -0.141  0.009  0.115  0.33   0.002  0.03   0.087 -0.039\n",
       "  -0.52  -1.495 -0.036 -0.477 -1.371  0.018  0.237  0.681  0.028  0.369\n",
       "   1.061  0.055  0.734  2.111  0.001  0.017  0.049 -0.022 -0.299 -0.859\n",
       "   0.015  0.199  0.572  0.014  0.19   0.545]\n",
       " [ 1.678  0.482  1.01   1.359  1.024  0.994  1.174  0.842 -0.086 -0.084\n",
       "  -0.095 -0.077 -0.098 -0.256 -0.252 -0.283 -0.231 -0.293  0.317  0.312\n",
       "   0.35   0.286  0.363  0.11   0.109  0.122  0.1    0.126 -0.071 -0.07\n",
       "  -0.079 -0.064 -0.082 -0.065 -0.064 -0.072 -0.059 -0.074 -0.092 -0.09\n",
       "  -0.102 -0.083 -0.105  0.035  0.035  0.039  0.032  0.04  -1.056 -0.186\n",
       "  -0.97  -0.232 -0.041 -0.213 -0.39  -0.069 -0.358  0.43   0.076  0.395\n",
       "  -0.109 -0.019 -0.101  0.262  0.046  0.24  -0.038 -0.007 -0.035 -1.031\n",
       "  -0.182 -0.947 -1.108 -0.195 -1.018  0.57   0.1    0.524  0.763  0.135\n",
       "   0.701  1.746  0.308  1.604 -0.03  -0.005 -0.027 -0.728 -0.128 -0.669\n",
       "   0.476  0.084  0.437  0.407  0.072  0.374]\n",
       " [ 1.671  0.494  1.03   1.361  1.045  0.997  1.161  0.833 -0.087 -0.076\n",
       "  -0.128 -0.019 -0.022 -0.254 -0.222 -0.376 -0.057 -0.064  0.316  0.276\n",
       "   0.467  0.071  0.08   0.105  0.092  0.155  0.024  0.027 -0.074 -0.065\n",
       "  -0.109 -0.017 -0.019 -0.066 -0.058 -0.098 -0.015 -0.017 -0.099 -0.086\n",
       "  -0.146 -0.022 -0.025  0.033  0.029  0.049  0.007  0.008 -1.287 -1.022\n",
       "  -0.33  -0.28  -0.222 -0.072 -0.416 -0.33  -0.107  0.547  0.434  0.14\n",
       "  -0.134 -0.107 -0.034  0.321  0.255  0.082 -0.088 -0.07  -0.023 -1.204\n",
       "  -0.956 -0.308 -1.37  -1.088 -0.351  0.71   0.564  0.182  0.906  0.72\n",
       "   0.232  2.169  1.723  0.556 -0.063 -0.05  -0.016 -0.913 -0.725 -0.234\n",
       "   0.594  0.472  0.152  0.489  0.389  0.125]\n",
       " [ 1.692  0.456  0.967  1.354  0.978  0.988  1.201  0.862 -0.084 -0.081\n",
       "  -0.018 -0.119 -0.148 -0.261 -0.252 -0.056 -0.372 -0.463  0.319  0.308\n",
       "   0.069  0.454  0.565  0.122  0.118  0.026  0.174  0.217 -0.066 -0.064\n",
       "  -0.014 -0.094 -0.117 -0.062 -0.06  -0.013 -0.088 -0.11  -0.078 -0.075\n",
       "  -0.017 -0.111 -0.138  0.04   0.038  0.009  0.056  0.07  -0.192  0.763\n",
       "  -0.284 -0.043  0.171 -0.064 -0.092  0.366 -0.136  0.07  -0.277  0.103\n",
       "  -0.02   0.078 -0.029  0.047 -0.185  0.069  0.008 -0.033  0.012 -0.206\n",
       "   0.817 -0.304 -0.195  0.773 -0.288  0.098 -0.387  0.144  0.147 -0.585\n",
       "   0.218  0.302 -1.197  0.445  0.004 -0.017  0.006 -0.123  0.489 -0.182\n",
       "   0.082 -0.325  0.121  0.076 -0.302  0.113]\n",
       " [ 1.665  0.504  1.046  1.363  1.062  0.999  1.151  0.826 -0.087 -0.11\n",
       "  -0.087 -0.056 -0.091 -0.252 -0.318 -0.253 -0.161 -0.262  0.315  0.397\n",
       "   0.316  0.201  0.328  0.101  0.127  0.101  0.064  0.105 -0.076 -0.096\n",
       "  -0.076 -0.049 -0.079 -0.068 -0.085 -0.068 -0.043 -0.07  -0.104 -0.131\n",
       "  -0.104 -0.067 -0.108  0.032  0.04   0.032  0.02   0.033 -1.28  -0.003\n",
       "  -0.649 -0.276 -0.001 -0.14  -0.368 -0.001 -0.186  0.561  0.001  0.284\n",
       "  -0.133 -0.    -0.068  0.322  0.001  0.163 -0.119 -0.    -0.061 -1.157\n",
       "  -0.002 -0.587 -1.376 -0.003 -0.698  0.719  0.002  0.364  0.882  0.002\n",
       "   0.447  2.188  0.005  1.109 -0.083 -0.    -0.042 -0.927 -0.002 -0.47\n",
       "   0.601  0.001  0.305  0.482  0.001  0.244]\n",
       " [ 1.671  0.494  1.03   1.362  1.045  0.997  1.161  0.833 -0.087 -0.109\n",
       "  -0.064 -0.08  -0.131 -0.254 -0.32  -0.189 -0.235 -0.383  0.316  0.399\n",
       "   0.235  0.293  0.477  0.105  0.132  0.078  0.097  0.158 -0.074 -0.093\n",
       "  -0.055 -0.069 -0.112 -0.067 -0.084 -0.049 -0.062 -0.1   -0.099 -0.125\n",
       "  -0.073 -0.092 -0.149  0.033  0.042  0.025  0.031  0.05  -0.934  0.387\n",
       "  -0.686 -0.203  0.084 -0.149 -0.3    0.124 -0.221  0.397 -0.164  0.292\n",
       "  -0.097  0.04  -0.072  0.233 -0.097  0.171 -0.065  0.027 -0.048 -0.872\n",
       "   0.361 -0.64  -0.994  0.412 -0.73   0.516 -0.214  0.379  0.657 -0.272\n",
       "   0.482  1.575 -0.652  1.156 -0.046  0.019 -0.034 -0.663  0.274 -0.487\n",
       "   0.431 -0.178  0.316  0.355 -0.147  0.261]]"
      ]
     },
     "execution_count": 30,
     "metadata": {},
     "output_type": "execute_result"
    }
   ],
   "source": [
    "r = np.random.rand(3)\n",
    "spherical_harmonics = e3nn.sh(irreps_out=[0,1,2], input=R, normalize=True, normalization='integral')\n",
    "x = e3nn.IrrepsArray(\"1x2y + 1x1y + 1x0y\", spherical_harmonics)\n",
    "\n",
    "@hk.without_apply_rng\n",
    "@hk.transform\n",
    "def so3_mlp(x):\n",
    "    return SO3MLP(n_layers=2, out_irreps=\"8x2y + 16x1y + 32x0y\")(x)\n",
    "    \n",
    "params = so3_mlp.init(jax.random.PRNGKey(0), x)\n",
    "so3_mlp.apply(params, x)"
   ]
  }
 ],
 "metadata": {
  "kernelspec": {
   "display_name": "mlff-dev",
   "language": "python",
   "name": "mlff-dev"
  },
  "language_info": {
   "codemirror_mode": {
    "name": "ipython",
    "version": 3
   },
   "file_extension": ".py",
   "mimetype": "text/x-python",
   "name": "python",
   "nbconvert_exporter": "python",
   "pygments_lexer": "ipython3",
   "version": "3.7.10"
  }
 },
 "nbformat": 4,
 "nbformat_minor": 5
}
